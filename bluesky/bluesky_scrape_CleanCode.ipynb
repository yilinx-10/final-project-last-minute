{
 "cells": [
  {
   "cell_type": "code",
   "execution_count": 1,
   "metadata": {},
   "outputs": [],
   "source": [
    "from atproto import Client\n",
    "import time\n",
    "import json\n",
    "# from atproto_client.exceptions import NetworkError, ModelError"
   ]
  },
  {
   "cell_type": "code",
   "execution_count": null,
   "metadata": {},
   "outputs": [],
   "source": [
    "client = Client()\n",
    "client.login('username', 'password')"
   ]
  },
  {
   "cell_type": "code",
   "execution_count": null,
   "metadata": {},
   "outputs": [],
   "source": [
    "query = \"California fire\"\n",
    "posts = client.app.bsky.feed.search_posts({'q': query})\n",
    "cursor = posts.cursor\n",
    "tw = []\n",
    "\n",
    "while cursor:\n",
    "    try:\n",
    "        page = client.app.bsky.feed.search_posts({'q': query, 'cursor': cursor})\n",
    "        \n",
    "        for post in page.posts:\n",
    "            try:\n",
    "                thread = client.app.bsky.feed.get_post_thread({'uri': post.uri})\n",
    "                comment_data = []\n",
    "                for reply in thread.thread.replies:\n",
    "                    comment_data.append(reply.post.record.text)\n",
    "\n",
    "                post_data = {\n",
    "                    'author': post.author.handle,\n",
    "                    'text': post.record.text,\n",
    "                    'timestamp': post.record.created_at,\n",
    "                    'likes': post.like_count,\n",
    "                    'reposts': post.repost_count,\n",
    "                    'comment': comment_data\n",
    "                }\n",
    "\n",
    "                tw.append(post_data)\n",
    "                \n",
    "            except Exception as e:\n",
    "                print(f\"Error processing individual post: {e}\")\n",
    "                continue\n",
    "        \n",
    "        cursor = page.cursor\n",
    "\n",
    "    except Exception as e:\n",
    "        print(f\"Error fetching page: {e}\")\n",
    "        break\n",
    "\n",
    "print(\"Finished\")\n"
   ]
  },
  {
   "cell_type": "code",
   "execution_count": null,
   "metadata": {},
   "outputs": [],
   "source": [
    "# print(tw[10:])\n",
    "print(len(tw))"
   ]
  },
  {
   "cell_type": "code",
   "execution_count": null,
   "metadata": {},
   "outputs": [],
   "source": [
    "# json\n",
    "filename = \"bluesky_posts.json\"\n",
    "\n",
    "with open(filename, 'w', encoding='utf-8') as f:\n",
    "    json.dump(tw, f, ensure_ascii=False, indent=4)\n",
    "\n",
    "print(filename)"
   ]
  }
 ],
 "metadata": {
  "kernelspec": {
   "display_name": "base",
   "language": "python",
   "name": "python3"
  },
  "language_info": {
   "codemirror_mode": {
    "name": "ipython",
    "version": 3
   },
   "file_extension": ".py",
   "mimetype": "text/x-python",
   "name": "python",
   "nbconvert_exporter": "python",
   "pygments_lexer": "ipython3",
   "version": "3.12.2"
  }
 },
 "nbformat": 4,
 "nbformat_minor": 2
}
