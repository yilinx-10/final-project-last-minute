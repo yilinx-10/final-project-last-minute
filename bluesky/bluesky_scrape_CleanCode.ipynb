{
 "cells": [
  {
   "cell_type": "markdown",
   "metadata": {},
   "source": [
    "Import libray"
   ]
  },
  {
   "cell_type": "code",
   "execution_count": 32,
   "metadata": {},
   "outputs": [],
   "source": [
    "from atproto import Client\n",
    "import time\n",
    "import json\n",
    "from datetime import datetime, timezone"
   ]
  },
  {
   "cell_type": "markdown",
   "metadata": {},
   "source": [
    "Log in to Bluesky account to access API function."
   ]
  },
  {
   "cell_type": "code",
   "execution_count": null,
   "metadata": {},
   "outputs": [],
   "source": [
    "client = Client()\n",
    "client.login('username', 'password')"
   ]
  },
  {
   "cell_type": "markdown",
   "metadata": {},
   "source": [
    "Function for convert and normalize all posts' date formates; used for later when comparing post date and end date we set"
   ]
  },
  {
   "cell_type": "code",
   "execution_count": 34,
   "metadata": {},
   "outputs": [],
   "source": [
    "def parse_date(date_str):\n",
    "    '''\n",
    "    Normalize all date formats to offset-aware datetime objects\n",
    "\n",
    "    Input: \n",
    "        date_str (str): The date string to be parsed\n",
    "        \n",
    "    Return: the parsed date object or None if parsing fails\n",
    "    '''\n",
    "    try:\n",
    "        # adjust time zone and convert to only date data\n",
    "        return datetime.fromisoformat(date_str.replace(\"Z\", \"+00:00\")).date()\n",
    "\n",
    "    except ValueError:\n",
    "        print(f\"Error parsing date: {date_str}\")\n",
    "        return None"
   ]
  },
  {
   "cell_type": "markdown",
   "metadata": {},
   "source": [
    "Scrape all post data until 1/6/2025 under search 'California fire'"
   ]
  },
  {
   "cell_type": "code",
   "execution_count": null,
   "metadata": {},
   "outputs": [],
   "source": [
    "query = \"California fire\" # searching term\n",
    "# earliest date of scrape posts\n",
    "# set end_date a day before the fire to adjust timezone convert issue\n",
    "end_date = datetime(2025, 1, 6)\n",
    "\n",
    "posts = client.app.bsky.feed.search_posts({'q': query})\n",
    "cursor = posts.cursor\n",
    "tw = []\n",
    "\n",
    "while cursor:\n",
    "    try:\n",
    "        page = client.app.bsky.feed.search_posts({'q': query, 'cursor': cursor})\n",
    "        \n",
    "        for post in page.posts:\n",
    "            try:\n",
    "                # convert and normalize date formats\n",
    "                post_date = parse_date(post.record.created_at)\n",
    "\n",
    "                # stope processing if date exceeds 1/6/2025\n",
    "                if post_date is None or post_date < end_date.date():\n",
    "                    cursor = None\n",
    "                    break\n",
    "\n",
    "                thread = client.app.bsky.feed.get_post_thread({'uri': post.uri})\n",
    "\n",
    "                # comment data store under each thread\n",
    "                comment_data = []\n",
    "                for reply in thread.thread.replies:\n",
    "                    comment_data.append(reply.post.record.text)\n",
    "\n",
    "                post_data = {\n",
    "                    'author': post.author.handle,\n",
    "                    'text': post.record.text,\n",
    "                    'timestamp': post.record.created_at,\n",
    "                    'likes': post.like_count,\n",
    "                    'reposts': post.repost_count,\n",
    "                    'comment': comment_data\n",
    "                }\n",
    "\n",
    "                tw.append(post_data)\n",
    "                \n",
    "            except Exception as e:\n",
    "                print(f\"Error processing post: {e}\")\n",
    "                continue\n",
    "        \n",
    "        if cursor:\n",
    "            cursor = page.cursor\n",
    "        \n",
    "    except Exception as e:\n",
    "        print(f\"Error processing page: {e}\")\n",
    "        break\n",
    "\n",
    "print(\"Done!\")\n"
   ]
  },
  {
   "cell_type": "markdown",
   "metadata": {},
   "source": [
    "Check our data"
   ]
  },
  {
   "cell_type": "code",
   "execution_count": null,
   "metadata": {},
   "outputs": [],
   "source": [
    "# print(tw[10:])\n",
    "print(len(tw))"
   ]
  },
  {
   "cell_type": "markdown",
   "metadata": {},
   "source": [
    "Output dataset into a json file"
   ]
  },
  {
   "cell_type": "code",
   "execution_count": null,
   "metadata": {},
   "outputs": [],
   "source": [
    "filename = \"bluesky_posts_0309.json\"\n",
    "\n",
    "# Save to JSON file\n",
    "with open(filename, 'w', encoding='utf-8') as f:\n",
    "    for obj in tw:\n",
    "        f.write(json.dumps(obj) + \"\\n\")\n",
    "\n",
    "print(f\"Data saved to {filename}\")"
   ]
  }
 ],
 "metadata": {
  "kernelspec": {
   "display_name": "base",
   "language": "python",
   "name": "python3"
  },
  "language_info": {
   "codemirror_mode": {
    "name": "ipython",
    "version": 3
   },
   "file_extension": ".py",
   "mimetype": "text/x-python",
   "name": "python",
   "nbconvert_exporter": "python",
   "pygments_lexer": "ipython3",
   "version": "3.12.2"
  }
 },
 "nbformat": 4,
 "nbformat_minor": 2
}
